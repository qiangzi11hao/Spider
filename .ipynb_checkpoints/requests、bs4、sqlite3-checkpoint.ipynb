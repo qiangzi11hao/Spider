{
 "cells": [
  {
   "cell_type": "code",
   "execution_count": 16,
   "metadata": {
    "collapsed": true,
    "scrolled": true
   },
   "outputs": [],
   "source": [
    "import requests\n",
    "import json\n",
    "from PIL import Image\n",
    "from io import BytesIO"
   ]
  },
  {
   "cell_type": "code",
   "execution_count": 3,
   "metadata": {},
   "outputs": [
    {
     "name": "stdout",
     "output_type": "stream",
     "text": [
      "['ConnectTimeout', 'ConnectionError', 'DependencyWarning', 'FileModeWarning', 'HTTPError', 'NullHandler', 'PreparedRequest', 'ReadTimeout', 'Request', 'RequestException', 'Response', 'Session', 'Timeout', 'TooManyRedirects', 'URLRequired', '__author__', '__build__', '__builtins__', '__cached__', '__copyright__', '__doc__', '__file__', '__license__', '__loader__', '__name__', '__package__', '__path__', '__spec__', '__title__', '__version__', '_internal_utils', 'adapters', 'api', 'auth', 'certs', 'codes', 'compat', 'cookies', 'delete', 'exceptions', 'get', 'head', 'hooks', 'logging', 'models', 'options', 'packages', 'patch', 'post', 'put', 'pyopenssl', 'request', 'session', 'sessions', 'status_codes', 'structures', 'utils', 'warnings']\n"
     ]
    }
   ],
   "source": [
    "print(dir(requests))\n",
    "#dir查看,快速地看库支持哪些方法"
   ]
  },
  {
   "cell_type": "code",
   "execution_count": 4,
   "metadata": {},
   "outputs": [
    {
     "name": "stdout",
     "output_type": "stream",
     "text": [
      "<Response [200]>\n",
      "200\n",
      "<!DOCTYPE html>\r\n",
      "<!--STATUS OK--><html> <head><meta http-equiv=content-type content=text/html;charset=utf-8><meta http-equiv=X-UA-Compatible content=IE=Edge><meta content=always name=referrer><link rel=stylesheet type=text/css href=http://s1.bdstatic.com/r/www/cache/bdorz/baidu.min.css><title>ç¾åº¦ä¸ä¸ï¼ä½ å°±ç¥é</title></head> <body link=#0000cc> <div id=wrapper> <div id=head> <div class=head_wrapper> <div class=s_form> <div class=s_form_wrapper> <div id=lg> <img hidefocus=true src=//www.baidu.com/img/bd_logo1.png width=270 height=129> </div> <form id=form name=f action=//www.baidu.com/s class=fm> <input type=hidden name=bdorz_come value=1> <input type=hidden name=ie value=utf-8> <input type=hidden name=f value=8> <input type=hidden name=rsv_bp value=1> <input type=hidden name=rsv_idx value=1> <input type=hidden name=tn value=baidu><span class=\"bg s_ipt_wr\"><input id=kw name=wd class=s_ipt value maxlength=255 autocomplete=off autofocus></span><span class=\"bg s_btn_wr\"><input type=submit id=su value=ç¾åº¦ä¸ä¸ class=\"bg s_btn\"></span> </form> </div> </div> <div id=u1> <a href=http://news.baidu.com name=tj_trnews class=mnav>æ°é»</a> <a href=http://www.hao123.com name=tj_trhao123 class=mnav>hao123</a> <a href=http://map.baidu.com name=tj_trmap class=mnav>å°å¾</a> <a href=http://v.baidu.com name=tj_trvideo class=mnav>è§é¢</a> <a href=http://tieba.baidu.com name=tj_trtieba class=mnav>è´´å§</a> <noscript> <a href=http://www.baidu.com/bdorz/login.gif?login&amp;tpl=mn&amp;u=http%3A%2F%2Fwww.baidu.com%2f%3fbdorz_come%3d1 name=tj_login class=lb>ç»å½</a> </noscript> <script>document.write('<a href=\"http://www.baidu.com/bdorz/login.gif?login&tpl=mn&u='+ encodeURIComponent(window.location.href+ (window.location.search === \"\" ? \"?\" : \"&\")+ \"bdorz_come=1\")+ '\" name=\"tj_login\" class=\"lb\">ç»å½</a>');</script> <a href=//www.baidu.com/more/ name=tj_briicon class=bri style=\"display: block;\">æ´å¤äº§å</a> </div> </div> </div> <div id=ftCon> <div id=ftConw> <p id=lh> <a href=http://home.baidu.com>å",
      "³äºç¾åº¦</a> <a href=http://ir.baidu.com>About Baidu</a> </p> <p id=cp>&copy;2017&nbsp;Baidu&nbsp;<a href=http://www.baidu.com/duty/>ä½¿ç¨ç¾åº¦åå¿",
      "è¯»</a>&nbsp; <a href=http://jianyi.baidu.com/ class=cp-feedback>æè§åé¦</a>&nbsp;äº¬ICPè¯030173å·&nbsp; <img src=//www.baidu.com/img/gs.gif> </p> </div> </div> </div> </body> </html>\r\n",
      "\n",
      "ISO-8859-1\n"
     ]
    }
   ],
   "source": [
    "url = 'http://www.baidu.com'\n",
    "r = requests.get(url)\n",
    "print(r)\n",
    "print(r.status_code) #返回状态码 200 代表访问成功\n",
    "print(r.text)  #网页内容\n",
    "print(r.encoding) #编码方式"
   ]
  },
  {
   "cell_type": "markdown",
   "metadata": {},
   "source": [
    "传递参数，不如采取形如：http://aaa.com?pageId=1&type=content 的方式来进行变量传参"
   ]
  },
  {
   "cell_type": "code",
   "execution_count": 5,
   "metadata": {},
   "outputs": [
    {
     "name": "stdout",
     "output_type": "stream",
     "text": [
      "http://httpbin.org/get?k1=v1&k2=v2\n"
     ]
    }
   ],
   "source": [
    "params = {'k1':'v1','k2':'v2'}\n",
    "r = requests.get('http://httpbin.org/get',params)\n",
    "print(r.url)"
   ]
  },
  {
   "cell_type": "markdown",
   "metadata": {},
   "source": [
    "二进制数据；存储图片"
   ]
  },
  {
   "cell_type": "code",
   "execution_count": 6,
   "metadata": {},
   "outputs": [],
   "source": [
    "r = requests.get('https://timgsa.baidu.com/timg?image&quality=80&size=b9999_10000&sec=1513185076022&di=a5435787570645fb05e13d8709c1c04e&imgtype=0&src=http%3A%2F%2Fwww.zhlzw.com%2FUploadFiles%2FArticle_UploadFiles%2F201204%2F20120412123926750.jpg')\n",
    "image = Image.open(BytesIO(r.content))\n",
    "image.save('meinv.jpg')"
   ]
  },
  {
   "cell_type": "markdown",
   "metadata": {},
   "source": [
    "对原始数据处理,对于stream的数据，逐步读出（针对大数据而言），省内存。比如一口吃成大胖子，和一步一步吃成大胖子，肯定是后者对胃的压力小！"
   ]
  },
  {
   "cell_type": "code",
   "execution_count": 9,
   "metadata": {
    "collapsed": true
   },
   "outputs": [],
   "source": [
    "r = requests.get('https://timgsa.baidu.com/timg?image&quality=80&size=b9999_10000&sec=1513185076022&di=a5435787570645fb05e13d8709c1c04e&imgtype=0&src=http%3A%2F%2Fwww.zhlzw.com%2FUploadFiles%2FArticle_UploadFiles%2F201204%2F20120412123926750.jpg')\n",
    "with open('meinv2.jpg','wb+') as f:\n",
    "    for chunk in r.iter_content(1024):\n",
    "        f.write(chunk)"
   ]
  },
  {
   "cell_type": "markdown",
   "metadata": {
    "collapsed": true
   },
   "source": [
    "json处理"
   ]
  },
  {
   "cell_type": "code",
   "execution_count": 8,
   "metadata": {},
   "outputs": [
    {
     "name": "stdout",
     "output_type": "stream",
     "text": [
      "<class 'method'>\n",
      "{\"message\":\"Hello there, wayfaring stranger. If you’re reading this then you probably didn’t see our blog post a couple of years back announcing that this API would go away: http://git.io/17AROg Fear not, you should be able to get what you need from the shiny new Events API instead.\",\"documentation_url\":\"https://developer.github.com/v3/activity/events/#list-public-events\"}\n"
     ]
    }
   ],
   "source": [
    "r = requests.get('http://github.com/timeline.json')\n",
    "print(type(r.json))\n",
    "print(r.text)"
   ]
  },
  {
   "cell_type": "markdown",
   "metadata": {},
   "source": [
    "提交表单,当你提供的是字典格式的时候，它就会认为这是一个表单"
   ]
  },
  {
   "cell_type": "code",
   "execution_count": 18,
   "metadata": {},
   "outputs": [
    {
     "name": "stdout",
     "output_type": "stream",
     "text": [
      "表单: {\n",
      "  \"args\": {}, \n",
      "  \"data\": \"\", \n",
      "  \"files\": {}, \n",
      "  \"form\": {\n",
      "    \"password\": \"passs\", \n",
      "    \"username\": \"user\"\n",
      "  }, \n",
      "  \"headers\": {\n",
      "    \"Accept\": \"*/*\", \n",
      "    \"Accept-Encoding\": \"gzip, deflate\", \n",
      "    \"Connection\": \"close\", \n",
      "    \"Content-Length\": \"28\", \n",
      "    \"Content-Type\": \"application/x-www-form-urlencoded\", \n",
      "    \"Host\": \"httpbin.org\", \n",
      "    \"User-Agent\": \"python-requests/2.14.2\"\n",
      "  }, \n",
      "  \"json\": null, \n",
      "  \"origin\": \"121.248.50.123\", \n",
      "  \"url\": \"http://httpbin.org/post\"\n",
      "}\n",
      "\n",
      "文本: {\n",
      "  \"args\": {}, \n",
      "  \"data\": \"{\\\"username\\\": \\\"user\\\", \\\"password\\\": \\\"passs\\\"}\", \n",
      "  \"files\": {}, \n",
      "  \"form\": {}, \n",
      "  \"headers\": {\n",
      "    \"Accept\": \"*/*\", \n",
      "    \"Accept-Encoding\": \"gzip, deflate\", \n",
      "    \"Connection\": \"close\", \n",
      "    \"Content-Length\": \"41\", \n",
      "    \"Host\": \"httpbin.org\", \n",
      "    \"User-Agent\": \"python-requests/2.14.2\"\n",
      "  }, \n",
      "  \"json\": {\n",
      "    \"password\": \"passs\", \n",
      "    \"username\": \"user\"\n",
      "  }, \n",
      "  \"origin\": \"121.248.50.123\", \n",
      "  \"url\": \"http://httpbin.org/post\"\n",
      "}\n",
      "\n"
     ]
    }
   ],
   "source": [
    "form = {'username':'user', 'password':'passs'}\n",
    "r = requests.post('http://httpbin.org/post', data = form)\n",
    "print('表单:',r.text)\n",
    "r = requests.post('http://httpbin.org/post', data = json.dumps(form))\n",
    "print('文本:',r.text)"
   ]
  },
  {
   "cell_type": "markdown",
   "metadata": {},
   "source": [
    "此时我们可以看到，由于传入是表单（字典穿着表单的马甲进去了）的形式，所以可以在网页中的‘form’项中得到我们的传入值。这里网页的form与变量的form是两码事，你改成a,b,v之类的毫无影响。而文本形式的传入则是显示在‘json’项中。"
   ]
  },
  {
   "cell_type": "markdown",
   "metadata": {},
   "source": [
    "cookie"
   ]
  },
  {
   "cell_type": "code",
   "execution_count": 19,
   "metadata": {},
   "outputs": [
    {
     "name": "stdout",
     "output_type": "stream",
     "text": [
      "BDORZ 27315\n"
     ]
    }
   ],
   "source": [
    "url = 'http://www.baidu.com'\n",
    "r = requests.get(url)\n",
    "cookies = r.cookies\n",
    "for k,v in cookies.items():\n",
    "    print(k,v)"
   ]
  },
  {
   "cell_type": "code",
   "execution_count": 21,
   "metadata": {},
   "outputs": [
    {
     "name": "stdout",
     "output_type": "stream",
     "text": [
      "{\n",
      "  \"cookies\": {\n",
      "    \"c1\": \"k1\", \n",
      "    \"c2\": \"k2\"\n",
      "  }\n",
      "}\n",
      "\n"
     ]
    }
   ],
   "source": [
    "cookies = {'c1':'k1','c2':'k2'}\n",
    "r = requests.get('http://httpbin.org/cookies', cookies=cookies)\n",
    "print(r.text)"
   ]
  },
  {
   "cell_type": "markdown",
   "metadata": {},
   "source": [
    "重定向和重定向历史"
   ]
  },
  {
   "cell_type": "code",
   "execution_count": 24,
   "metadata": {},
   "outputs": [
    {
     "name": "stdout",
     "output_type": "stream",
     "text": [
      "https://github.com/\n",
      "200\n",
      "[<Response [301]>]\n"
     ]
    }
   ],
   "source": [
    "r = requests.head('http://github.com',allow_redirects= True)\n",
    "print(r.url)\n",
    "print(r.status_code)\n",
    "print(r.history)\n"
   ]
  },
  {
   "cell_type": "code",
   "execution_count": 26,
   "metadata": {},
   "outputs": [],
   "source": [
    "from bs4 import BeautifulSoup"
   ]
  },
  {
   "cell_type": "code",
   "execution_count": 27,
   "metadata": {},
   "outputs": [
    {
     "name": "stdout",
     "output_type": "stream",
     "text": [
      "<bound method Tag.prettify of <!DOCTYPE html>\n",
      "<html>\n",
      "<head>\n",
      "<meta content=\"text/html; charset=utf-8\" http-equiv=\"Content-Type\"/>\n",
      "<title>血流成河</title>\n",
      "<style type=\"text/css\">\n",
      "\tbody,p,ul,ol,h1,h2,h3,h4,h5{margin:0;padding:0;}\n",
      "\tbody{font-family:\"微软雅黑\",Microsoft Yahei;}\n",
      "\tli{list-style-type:none;}\n",
      "\t.clearfix{zoom1;}\n",
      "\t.clearfix:after{content:\"\";clear:both;height:0;display:block;visibility:hidden;}\n",
      "\th1,h2,h3,h4,h5{font-size:100%;font-weight:normal;}\n",
      "\t.main{overflow-y:auto;margin:0 auto;}\n",
      "\t.cont{padding:10px 10px;font-size:14px;color:#522b0b;}\n",
      "\t.cont p{line-height:1.5;clear:both;overflow:hidden;}\n",
      "\th2{font-size:16px;line-height:2;}\n",
      "\th3{font-size:14px;line-height:2;}\n",
      "\t.mj_list{margin-bottom:10px}\n",
      "\t.mj_list li{float:left;width:24px;height:34px;background:url(images/mj_bg.png);background-size:100%;text-align:center;}\n",
      "\t.mj_list li img{width:20px}\n",
      "</style>\n",
      "<script src=\"http://huanle.qq.com/public/DD_belatedPNG_0.0.7a-min.js\" type=\"text/javascript\"></script>\n",
      "<script type=\"text/javascript\">\n",
      "\t\t\tDD_belatedPNG.fix(\".mj_list li\");\n",
      "        </script>\n",
      "</head>\n",
      "<body>\n",
      "<div class=\"main\">\n",
      "<div class=\"cont\">\n",
      "<h2>基本规则</h2>\n",
      "<p>1．可以碰、杠，不可以吃。</p>\n",
      "<p>2．缺一门才可胡，即胡牌的时候不能有三种花色的牌。</p>\n",
      "<p>3．刮风下雨：直杠收取引杠者2倍游戏豆，补杠收取其他玩家1倍游戏豆，暗杠收取其他玩家2倍游戏豆。</p>\n",
      "<p>4．退税：牌局结束时玩家未听牌，则退回全部刮风下雨所得。</p>\n",
      "<p>5．查花猪：牌局结束时手牌有三种花色的玩家为花猪，花猪赔给非花猪玩家封顶倍数。</p>\n",
      "<p>6．查大叫：牌局结束时未听牌玩家（花猪不用）赔给听牌玩家最大可能倍数。</p>\n",
      "<p>7．呼叫转移：放杠上炮的玩家需把杠牌所得转移给胡牌玩家。</p>\n",
      "<h2>番型介绍</h2>\n",
      "<h2>基本番： 不重复计算，只计最大番型</h2>\n",
      "<h2> 一番（x1）：</h2>\n",
      "            平胡，四坎牌加一对将。\n",
      "            <ul class=\"mj_list clearfix\">\n",
      "<li><img src=\"images/tong_2.png\"/></li>\n",
      "<li><img src=\"images/tong_3.png\"/></li>\n",
      "<li><img src=\"images/tong_4.png\"/></li>\n",
      "<li><img src=\"images/tong_4.png\"/></li>\n",
      "<li><img src=\"images/tong_5.png\"/></li>\n",
      "<li><img src=\"images/tong_6.png\"/></li>\n",
      "<li><img src=\"images/tong_7.png\"/></li>\n",
      "<li><img src=\"images/tong_7.png\"/></li>\n",
      "<li><img src=\"images/tiao_3.png\"/></li>\n",
      "<li><img src=\"images/tiao_4.png\"/></li>\n",
      "<li><img src=\"images/tiao_5.png\"/></li>\n",
      "<li><img src=\"images/tiao_7.png\"/></li>\n",
      "<li><img src=\"images/tiao_8.png\"/></li>\n",
      "<li><img src=\"images/tiao_9.png\"/></li>\n",
      "</ul>\n",
      "<h2> 两番（x2）：</h2>\n",
      "<p>对对胡，四副刻子加一对将。</p>\n",
      "<ul class=\"mj_list clearfix\">\n",
      "<li><img src=\"images/w_1.png\"/></li>\n",
      "<li><img src=\"images/w_1.png\"/></li>\n",
      "<li><img src=\"images/w_1.png\"/></li>\n",
      "<li><img src=\"images/w_2.png\"/></li>\n",
      "<li><img src=\"images/w_2.png\"/></li>\n",
      "<li><img src=\"images/w_2.png\"/></li>\n",
      "<li><img src=\"images/w_4.png\"/></li>\n",
      "<li><img src=\"images/w_4.png\"/></li>\n",
      "<li><img src=\"images/w_4.png\"/></li>\n",
      "<li><img src=\"images/tong_3.png\"/></li>\n",
      "<li><img src=\"images/tong_3.png\"/></li>\n",
      "<li><img src=\"images/tong_3.png\"/></li>\n",
      "<li><img src=\"images/tong_9.png\"/></li>\n",
      "<li><img src=\"images/tong_9.png\"/></li>\n",
      "</ul>\n",
      "<h2>三番（x4）：</h2>\n",
      "<p>清一色，玩家胡牌的手牌全部都是一门花色。</p>\n",
      "<ul class=\"mj_list clearfix\">\n",
      "<li><img src=\"images/tiao_1.png\"/></li>\n",
      "<li><img src=\"images/tiao_1.png\"/></li>\n",
      "<li><img src=\"images/tiao_3.png\"/></li>\n",
      "<li><img src=\"images/tiao_3.png\"/></li>\n",
      "<li><img src=\"images/tiao_3.png\"/></li>\n",
      "<li><img src=\"images/tiao_2.png\"/></li>\n",
      "<li><img src=\"images/tiao_2.png\"/></li>\n",
      "<li><img src=\"images/tiao_2.png\"/></li>\n",
      "<li><img src=\"images/tiao_4.png\"/></li>\n",
      "<li><img src=\"images/tiao_5.png\"/></li>\n",
      "<li><img src=\"images/tiao_6.png\"/></li>\n",
      "<li><img src=\"images/tiao_9.png\"/></li>\n",
      "<li><img src=\"images/tiao_9.png\"/></li>\n",
      "<li><img src=\"images/tiao_9.png\"/></li>\n",
      "</ul>\n",
      "<p>\n",
      "            带幺九，玩家手牌中，全部是用1的连牌或者9的连牌组成的牌。</p>\n",
      "<ul class=\"mj_list clearfix\">\n",
      "<li><img src=\"images/tiao_1.png\"/></li>\n",
      "<li><img src=\"images/tiao_2.png\"/></li>\n",
      "<li><img src=\"images/tiao_3.png\"/></li>\n",
      "<li><img src=\"images/w_1.png\"/></li>\n",
      "<li><img src=\"images/w_2.png\"/></li>\n",
      "<li><img src=\"images/w_3.png\"/></li>\n",
      "<li><img src=\"images/tiao_7.png\"/></li>\n",
      "<li><img src=\"images/tiao_8.png\"/></li>\n",
      "<li><img src=\"images/tiao_9.png\"/></li>\n",
      "<li><img src=\"images/w_7.png\"/></li>\n",
      "<li><img src=\"images/w_8.png\"/></li>\n",
      "<li><img src=\"images/w_9.png\"/></li>\n",
      "<li><img src=\"images/w_9.png\"/></li>\n",
      "<li><img src=\"images/w_9.png\"/></li>\n",
      "</ul>\n",
      "<p>七对，玩家的手牌全部是两张一对的，没有碰过和杠过。</p>\n",
      "<ul class=\"mj_list clearfix\">\n",
      "<li><img src=\"images/w_2.png\"/></li>\n",
      "<li><img src=\"images/w_2.png\"/></li>\n",
      "<li><img src=\"images/w_4.png\"/></li>\n",
      "<li><img src=\"images/w_4.png\"/></li>\n",
      "<li><img src=\"images/w_5.png\"/></li>\n",
      "<li><img src=\"images/w_5.png\"/></li>\n",
      "<li><img src=\"images/w_2.png\"/></li>\n",
      "<li><img src=\"images/w_2.png\"/></li>\n",
      "<li><img src=\"images/w_9.png\"/></li>\n",
      "<li><img src=\"images/w_9.png\"/></li>\n",
      "<li><img src=\"images/tong_1.png\"/></li>\n",
      "<li><img src=\"images/tong_1.png\"/></li>\n",
      "<li><img src=\"images/tong_9.png\"/></li>\n",
      "<li><img src=\"images/tong_9.png\"/></li>\n",
      "</ul>\n",
      "<p>金钩钓，玩家胡牌时，其他牌都被用作碰牌、杠牌；手牌中只剩下唯一的一张牌，不计对对胡。</p>\n",
      "<h2>四番（x8）：</h2>\n",
      "<p>清对，清一色的对对胡。</p>\n",
      "<ul class=\"mj_list clearfix\">\n",
      "<li><img src=\"images/tong_9.png\"/></li>\n",
      "<li><img src=\"images/tong_9.png\"/></li>\n",
      "<li><img src=\"images/tong_9.png\"/></li>\n",
      "<li><img src=\"images/tong_7.png\"/></li>\n",
      "<li><img src=\"images/tong_7.png\"/></li>\n",
      "<li><img src=\"images/tong_7.png\"/></li>\n",
      "<li><img src=\"images/tong_5.png\"/></li>\n",
      "<li><img src=\"images/tong_5.png\"/></li>\n",
      "<li><img src=\"images/tong_5.png\"/></li>\n",
      "<li><img src=\"images/tong_1.png\"/></li>\n",
      "<li><img src=\"images/tong_1.png\"/></li>\n",
      "<li><img src=\"images/tong_1.png\"/></li>\n",
      "<li><img src=\"images/tong_6.png\"/></li>\n",
      "<li><img src=\"images/tong_6.png\"/></li>\n",
      "</ul>\n",
      "<p>龙七对，玩家手牌为暗七对牌型，没有碰过或者杠过，并且有四张牌是一样的，叫龙七对。不再计七对，同时减1根。</p>\n",
      "<ul class=\"mj_list clearfix\">\n",
      "<li><img src=\"images/tong_1.png\"/></li>\n",
      "<li><img src=\"images/tong_1.png\"/></li>\n",
      "<li><img src=\"images/tong_2.png\"/></li>\n",
      "<li><img src=\"images/tong_2.png\"/></li>\n",
      "<li><img src=\"images/tong_2.png\"/></li>\n",
      "<li><img src=\"images/tong_2.png\"/></li>\n",
      "<li><img src=\"images/tong_4.png\"/></li>\n",
      "<li><img src=\"images/tong_4.png\"/></li>\n",
      "<li><img src=\"images/w_5.png\"/></li>\n",
      "<li><img src=\"images/w_5.png\"/></li>\n",
      "<li><img src=\"images/w_7.png\"/></li>\n",
      "<li><img src=\"images/w_7.png\"/></li>\n",
      "<li><img src=\"images/w_9.png\"/></li>\n",
      "<li><img src=\"images/w_9.png\"/></li>\n",
      "</ul>\n",
      "<p>将对，玩家手上的牌是带二、五、八的对对胡。</p>\n",
      "<ul class=\"mj_list clearfix\">\n",
      "<li><img src=\"images/tiao_2.png\"/></li>\n",
      "<li><img src=\"images/tiao_2.png\"/></li>\n",
      "<li><img src=\"images/tiao_2.png\"/></li>\n",
      "<li><img src=\"images/tiao_5.png\"/></li>\n",
      "<li><img src=\"images/tiao_5.png\"/></li>\n",
      "<li><img src=\"images/tiao_5.png\"/></li>\n",
      "<li><img src=\"images/tiao_8.png\"/></li>\n",
      "<li><img src=\"images/tiao_8.png\"/></li>\n",
      "<li><img src=\"images/tiao_8.png\"/></li>\n",
      "<li><img src=\"images/w_8.png\"/></li>\n",
      "<li><img src=\"images/w_8.png\"/></li>\n",
      "<li><img src=\"images/w_8.png\"/></li>\n",
      "<li><img src=\"images/w_5.png\"/></li>\n",
      "<li><img src=\"images/w_5.png\"/></li>\n",
      "</ul>\n",
      "<h2>五番（x16）：</h2>\n",
      "<p>清七对，玩家手上的牌是清一色的七对。</p>\n",
      "<ul class=\"mj_list clearfix\">\n",
      "<li><img src=\"images/tiao_1.png\"/></li>\n",
      "<li><img src=\"images/tiao_1.png\"/></li>\n",
      "<li><img src=\"images/tiao_3.png\"/></li>\n",
      "<li><img src=\"images/tiao_3.png\"/></li>\n",
      "<li><img src=\"images/tiao_4.png\"/></li>\n",
      "<li><img src=\"images/tiao_4.png\"/></li>\n",
      "<li><img src=\"images/tiao_6.png\"/></li>\n",
      "<li><img src=\"images/tiao_6.png\"/></li>\n",
      "<li><img src=\"images/tiao_7.png\"/></li>\n",
      "<li><img src=\"images/tiao_7.png\"/></li>\n",
      "<li><img src=\"images/tiao_8.png\"/></li>\n",
      "<li><img src=\"images/tiao_8.png\"/></li>\n",
      "<li><img src=\"images/tiao_9.png\"/></li>\n",
      "<li><img src=\"images/tiao_9.png\"/></li>\n",
      "</ul>\n",
      "<p>清幺九，清一色的幺九。</p>\n",
      "<ul class=\"mj_list clearfix\">\n",
      "<li><img src=\"images/tiao_1.png\"/></li>\n",
      "<li><img src=\"images/tiao_2.png\"/></li>\n",
      "<li><img src=\"images/tiao_3.png\"/></li>\n",
      "<li><img src=\"images/tiao_1.png\"/></li>\n",
      "<li><img src=\"images/tiao_2.png\"/></li>\n",
      "<li><img src=\"images/tiao_3.png\"/></li>\n",
      "<li><img src=\"images/tiao_1.png\"/></li>\n",
      "<li><img src=\"images/tiao_2.png\"/></li>\n",
      "<li><img src=\"images/tiao_3.png\"/></li>\n",
      "<li><img src=\"images/tiao_7.png\"/></li>\n",
      "<li><img src=\"images/tiao_8.png\"/></li>\n",
      "<li><img src=\"images/tiao_9.png\"/></li>\n",
      "<li><img src=\"images/tiao_9.png\"/></li>\n",
      "<li><img src=\"images/tiao_9.png\"/></li>\n",
      "</ul>\n",
      "<p>将金钩钓，指金钩钓里手牌、碰牌和杠牌的牌必须是2、5、8。</p>\n",
      "<p>清金钩钓，指金钩钓听牌时，胡牌时的牌型都为同一花色。</p>\n",
      "<h2>六番（x32）：</h2>\n",
      "<p>地胡，在打牌过程中，非庄家在第一次摸完牌后就可以下叫，第一轮摸牌后就胡牌，叫地胡。</p>\n",
      "<p>清龙七对，玩家手牌是清一色的龙七对，叫清龙七对，如。算番时减1根。</p>\n",
      "<ul class=\"mj_list clearfix\">\n",
      "<li><img src=\"images/w_1.png\"/></li>\n",
      "<li><img src=\"images/w_1.png\"/></li>\n",
      "<li><img src=\"images/w_2.png\"/></li>\n",
      "<li><img src=\"images/w_2.png\"/></li>\n",
      "<li><img src=\"images/w_4.png\"/></li>\n",
      "<li><img src=\"images/w_4.png\"/></li>\n",
      "<li><img src=\"images/w_4.png\"/></li>\n",
      "<li><img src=\"images/w_4.png\"/></li>\n",
      "<li><img src=\"images/w_5.png\"/></li>\n",
      "<li><img src=\"images/w_5.png\"/></li>\n",
      "<li><img src=\"images/w_7.png\"/></li>\n",
      "<li><img src=\"images/w_7.png\"/></li>\n",
      "<li><img src=\"images/w_9.png\"/></li>\n",
      "<li><img src=\"images/w_9.png\"/></li>\n",
      "</ul>\n",
      "<h2>七番（x64）：</h2>\n",
      "<p>十八罗汉，在金钩钓里，若有四个杠，此时所有的牌有18张，所以称为十八罗汉。</p>\n",
      "<h2>另加番：</h2>\n",
      "            杠上花，1番，杠了之后补牌而胡。<br/>\n",
      "            杠上炮，1番，玩家在杠牌时，先杠一张牌，再打掉一张牌，而打出的这张牌正好是其他玩家胡牌所需要的叫牌时，这种情况叫            杠上炮。即玩家杠了后补牌，打出，然后给其他玩家胡了。<br/>\n",
      "            抢杠胡，1番，玩家面下杠时，他家可以抢杠而胡，且刮风下雨无效。<br/>\n",
      "</div>\n",
      "</div>\n",
      "</body>\n",
      "</html>\n",
      ">\n"
     ]
    },
    {
     "name": "stderr",
     "output_type": "stream",
     "text": [
      "E:\\Anaconda\\lib\\site-packages\\bs4\\__init__.py:181: UserWarning: No parser was explicitly specified, so I'm using the best available HTML parser for this system (\"lxml\"). This usually isn't a problem, but if you run this code on another system, or in a different virtual environment, it may use a different parser and behave differently.\n",
      "\n",
      "The code that caused this warning is on line 193 of the file E:\\Anaconda\\lib\\runpy.py. To get rid of this warning, change code that looks like this:\n",
      "\n",
      " BeautifulSoup(YOUR_MARKUP})\n",
      "\n",
      "to this:\n",
      "\n",
      " BeautifulSoup(YOUR_MARKUP, \"lxml\")\n",
      "\n",
      "  markup_type=markup_type))\n"
     ]
    }
   ],
   "source": [
    "soup = BeautifulSoup(open('xueliu.html'))\n",
    "print(soup.prettify)\n",
    "print(type(soup.title))\n",
    "print(soup.title)\n",
    "print(soup.title.name)\n",
    "print(type(soup.title.string))\n",
    "print(soup.title.string)\n",
    "print(type(soup.p.string))\n",
    "print(soup.p.string"
   ]
  },
  {
   "cell_type": "code",
   "execution_count": 40,
   "metadata": {},
   "outputs": [
    {
     "name": "stdout",
     "output_type": "stream",
     "text": [
      "None\n",
      "div\n",
      "None\n"
     ]
    }
   ],
   "source": [
    "for item in soup.body.contents:\n",
    "    print(item.name)"
   ]
  },
  {
   "cell_type": "code",
   "execution_count": 50,
   "metadata": {},
   "outputs": [
    {
     "name": "stdout",
     "output_type": "stream",
     "text": [
      "[<div class=\"cont\">\n",
      "<h2>基本规则</h2>\n",
      "<p>1．可以碰、杠，不可以吃。</p>\n",
      "<p>2．缺一门才可胡，即胡牌的时候不能有三种花色的牌。</p>\n",
      "<p>3．刮风下雨：直杠收取引杠者2倍游戏豆，补杠收取其他玩家1倍游戏豆，暗杠收取其他玩家2倍游戏豆。</p>\n",
      "<p>4．退税：牌局结束时玩家未听牌，则退回全部刮风下雨所得。</p>\n",
      "<p>5．查花猪：牌局结束时手牌有三种花色的玩家为花猪，花猪赔给非花猪玩家封顶倍数。</p>\n",
      "<p>6．查大叫：牌局结束时未听牌玩家（花猪不用）赔给听牌玩家最大可能倍数。</p>\n",
      "<p>7．呼叫转移：放杠上炮的玩家需把杠牌所得转移给胡牌玩家。</p>\n",
      "<h2>番型介绍</h2>\n",
      "<h2>基本番： 不重复计算，只计最大番型</h2>\n",
      "<h2> 一番（x1）：</h2>\n",
      "            平胡，四坎牌加一对将。\n",
      "            <ul class=\"mj_list clearfix\">\n",
      "<li><img src=\"images/tong_2.png\"/></li>\n",
      "<li><img src=\"images/tong_3.png\"/></li>\n",
      "<li><img src=\"images/tong_4.png\"/></li>\n",
      "<li><img src=\"images/tong_4.png\"/></li>\n",
      "<li><img src=\"images/tong_5.png\"/></li>\n",
      "<li><img src=\"images/tong_6.png\"/></li>\n",
      "<li><img src=\"images/tong_7.png\"/></li>\n",
      "<li><img src=\"images/tong_7.png\"/></li>\n",
      "<li><img src=\"images/tiao_3.png\"/></li>\n",
      "<li><img src=\"images/tiao_4.png\"/></li>\n",
      "<li><img src=\"images/tiao_5.png\"/></li>\n",
      "<li><img src=\"images/tiao_7.png\"/></li>\n",
      "<li><img src=\"images/tiao_8.png\"/></li>\n",
      "<li><img src=\"images/tiao_9.png\"/></li>\n",
      "</ul>\n",
      "<h2> 两番（x2）：</h2>\n",
      "<p>对对胡，四副刻子加一对将。</p>\n",
      "<ul class=\"mj_list clearfix\">\n",
      "<li><img src=\"images/w_1.png\"/></li>\n",
      "<li><img src=\"images/w_1.png\"/></li>\n",
      "<li><img src=\"images/w_1.png\"/></li>\n",
      "<li><img src=\"images/w_2.png\"/></li>\n",
      "<li><img src=\"images/w_2.png\"/></li>\n",
      "<li><img src=\"images/w_2.png\"/></li>\n",
      "<li><img src=\"images/w_4.png\"/></li>\n",
      "<li><img src=\"images/w_4.png\"/></li>\n",
      "<li><img src=\"images/w_4.png\"/></li>\n",
      "<li><img src=\"images/tong_3.png\"/></li>\n",
      "<li><img src=\"images/tong_3.png\"/></li>\n",
      "<li><img src=\"images/tong_3.png\"/></li>\n",
      "<li><img src=\"images/tong_9.png\"/></li>\n",
      "<li><img src=\"images/tong_9.png\"/></li>\n",
      "</ul>\n",
      "<h2>三番（x4）：</h2>\n",
      "<p>清一色，玩家胡牌的手牌全部都是一门花色。</p>\n",
      "<ul class=\"mj_list clearfix\">\n",
      "<li><img src=\"images/tiao_1.png\"/></li>\n",
      "<li><img src=\"images/tiao_1.png\"/></li>\n",
      "<li><img src=\"images/tiao_3.png\"/></li>\n",
      "<li><img src=\"images/tiao_3.png\"/></li>\n",
      "<li><img src=\"images/tiao_3.png\"/></li>\n",
      "<li><img src=\"images/tiao_2.png\"/></li>\n",
      "<li><img src=\"images/tiao_2.png\"/></li>\n",
      "<li><img src=\"images/tiao_2.png\"/></li>\n",
      "<li><img src=\"images/tiao_4.png\"/></li>\n",
      "<li><img src=\"images/tiao_5.png\"/></li>\n",
      "<li><img src=\"images/tiao_6.png\"/></li>\n",
      "<li><img src=\"images/tiao_9.png\"/></li>\n",
      "<li><img src=\"images/tiao_9.png\"/></li>\n",
      "<li><img src=\"images/tiao_9.png\"/></li>\n",
      "</ul>\n",
      "<p>\n",
      "            带幺九，玩家手牌中，全部是用1的连牌或者9的连牌组成的牌。</p>\n",
      "<ul class=\"mj_list clearfix\">\n",
      "<li><img src=\"images/tiao_1.png\"/></li>\n",
      "<li><img src=\"images/tiao_2.png\"/></li>\n",
      "<li><img src=\"images/tiao_3.png\"/></li>\n",
      "<li><img src=\"images/w_1.png\"/></li>\n",
      "<li><img src=\"images/w_2.png\"/></li>\n",
      "<li><img src=\"images/w_3.png\"/></li>\n",
      "<li><img src=\"images/tiao_7.png\"/></li>\n",
      "<li><img src=\"images/tiao_8.png\"/></li>\n",
      "<li><img src=\"images/tiao_9.png\"/></li>\n",
      "<li><img src=\"images/w_7.png\"/></li>\n",
      "<li><img src=\"images/w_8.png\"/></li>\n",
      "<li><img src=\"images/w_9.png\"/></li>\n",
      "<li><img src=\"images/w_9.png\"/></li>\n",
      "<li><img src=\"images/w_9.png\"/></li>\n",
      "</ul>\n",
      "<p>七对，玩家的手牌全部是两张一对的，没有碰过和杠过。</p>\n",
      "<ul class=\"mj_list clearfix\">\n",
      "<li><img src=\"images/w_2.png\"/></li>\n",
      "<li><img src=\"images/w_2.png\"/></li>\n",
      "<li><img src=\"images/w_4.png\"/></li>\n",
      "<li><img src=\"images/w_4.png\"/></li>\n",
      "<li><img src=\"images/w_5.png\"/></li>\n",
      "<li><img src=\"images/w_5.png\"/></li>\n",
      "<li><img src=\"images/w_2.png\"/></li>\n",
      "<li><img src=\"images/w_2.png\"/></li>\n",
      "<li><img src=\"images/w_9.png\"/></li>\n",
      "<li><img src=\"images/w_9.png\"/></li>\n",
      "<li><img src=\"images/tong_1.png\"/></li>\n",
      "<li><img src=\"images/tong_1.png\"/></li>\n",
      "<li><img src=\"images/tong_9.png\"/></li>\n",
      "<li><img src=\"images/tong_9.png\"/></li>\n",
      "</ul>\n",
      "<p>金钩钓，玩家胡牌时，其他牌都被用作碰牌、杠牌；手牌中只剩下唯一的一张牌，不计对对胡。</p>\n",
      "<h2>四番（x8）：</h2>\n",
      "<p>清对，清一色的对对胡。</p>\n",
      "<ul class=\"mj_list clearfix\">\n",
      "<li><img src=\"images/tong_9.png\"/></li>\n",
      "<li><img src=\"images/tong_9.png\"/></li>\n",
      "<li><img src=\"images/tong_9.png\"/></li>\n",
      "<li><img src=\"images/tong_7.png\"/></li>\n",
      "<li><img src=\"images/tong_7.png\"/></li>\n",
      "<li><img src=\"images/tong_7.png\"/></li>\n",
      "<li><img src=\"images/tong_5.png\"/></li>\n",
      "<li><img src=\"images/tong_5.png\"/></li>\n",
      "<li><img src=\"images/tong_5.png\"/></li>\n",
      "<li><img src=\"images/tong_1.png\"/></li>\n",
      "<li><img src=\"images/tong_1.png\"/></li>\n",
      "<li><img src=\"images/tong_1.png\"/></li>\n",
      "<li><img src=\"images/tong_6.png\"/></li>\n",
      "<li><img src=\"images/tong_6.png\"/></li>\n",
      "</ul>\n",
      "<p>龙七对，玩家手牌为暗七对牌型，没有碰过或者杠过，并且有四张牌是一样的，叫龙七对。不再计七对，同时减1根。</p>\n",
      "<ul class=\"mj_list clearfix\">\n",
      "<li><img src=\"images/tong_1.png\"/></li>\n",
      "<li><img src=\"images/tong_1.png\"/></li>\n",
      "<li><img src=\"images/tong_2.png\"/></li>\n",
      "<li><img src=\"images/tong_2.png\"/></li>\n",
      "<li><img src=\"images/tong_2.png\"/></li>\n",
      "<li><img src=\"images/tong_2.png\"/></li>\n",
      "<li><img src=\"images/tong_4.png\"/></li>\n",
      "<li><img src=\"images/tong_4.png\"/></li>\n",
      "<li><img src=\"images/w_5.png\"/></li>\n",
      "<li><img src=\"images/w_5.png\"/></li>\n",
      "<li><img src=\"images/w_7.png\"/></li>\n",
      "<li><img src=\"images/w_7.png\"/></li>\n",
      "<li><img src=\"images/w_9.png\"/></li>\n",
      "<li><img src=\"images/w_9.png\"/></li>\n",
      "</ul>\n",
      "<p>将对，玩家手上的牌是带二、五、八的对对胡。</p>\n",
      "<ul class=\"mj_list clearfix\">\n",
      "<li><img src=\"images/tiao_2.png\"/></li>\n",
      "<li><img src=\"images/tiao_2.png\"/></li>\n",
      "<li><img src=\"images/tiao_2.png\"/></li>\n",
      "<li><img src=\"images/tiao_5.png\"/></li>\n",
      "<li><img src=\"images/tiao_5.png\"/></li>\n",
      "<li><img src=\"images/tiao_5.png\"/></li>\n",
      "<li><img src=\"images/tiao_8.png\"/></li>\n",
      "<li><img src=\"images/tiao_8.png\"/></li>\n",
      "<li><img src=\"images/tiao_8.png\"/></li>\n",
      "<li><img src=\"images/w_8.png\"/></li>\n",
      "<li><img src=\"images/w_8.png\"/></li>\n",
      "<li><img src=\"images/w_8.png\"/></li>\n",
      "<li><img src=\"images/w_5.png\"/></li>\n",
      "<li><img src=\"images/w_5.png\"/></li>\n",
      "</ul>\n",
      "<h2>五番（x16）：</h2>\n",
      "<p>清七对，玩家手上的牌是清一色的七对。</p>\n",
      "<ul class=\"mj_list clearfix\">\n",
      "<li><img src=\"images/tiao_1.png\"/></li>\n",
      "<li><img src=\"images/tiao_1.png\"/></li>\n",
      "<li><img src=\"images/tiao_3.png\"/></li>\n",
      "<li><img src=\"images/tiao_3.png\"/></li>\n",
      "<li><img src=\"images/tiao_4.png\"/></li>\n",
      "<li><img src=\"images/tiao_4.png\"/></li>\n",
      "<li><img src=\"images/tiao_6.png\"/></li>\n",
      "<li><img src=\"images/tiao_6.png\"/></li>\n",
      "<li><img src=\"images/tiao_7.png\"/></li>\n",
      "<li><img src=\"images/tiao_7.png\"/></li>\n",
      "<li><img src=\"images/tiao_8.png\"/></li>\n",
      "<li><img src=\"images/tiao_8.png\"/></li>\n",
      "<li><img src=\"images/tiao_9.png\"/></li>\n",
      "<li><img src=\"images/tiao_9.png\"/></li>\n",
      "</ul>\n",
      "<p>清幺九，清一色的幺九。</p>\n",
      "<ul class=\"mj_list clearfix\">\n",
      "<li><img src=\"images/tiao_1.png\"/></li>\n",
      "<li><img src=\"images/tiao_2.png\"/></li>\n",
      "<li><img src=\"images/tiao_3.png\"/></li>\n",
      "<li><img src=\"images/tiao_1.png\"/></li>\n",
      "<li><img src=\"images/tiao_2.png\"/></li>\n",
      "<li><img src=\"images/tiao_3.png\"/></li>\n",
      "<li><img src=\"images/tiao_1.png\"/></li>\n",
      "<li><img src=\"images/tiao_2.png\"/></li>\n",
      "<li><img src=\"images/tiao_3.png\"/></li>\n",
      "<li><img src=\"images/tiao_7.png\"/></li>\n",
      "<li><img src=\"images/tiao_8.png\"/></li>\n",
      "<li><img src=\"images/tiao_9.png\"/></li>\n",
      "<li><img src=\"images/tiao_9.png\"/></li>\n",
      "<li><img src=\"images/tiao_9.png\"/></li>\n",
      "</ul>\n",
      "<p>将金钩钓，指金钩钓里手牌、碰牌和杠牌的牌必须是2、5、8。</p>\n",
      "<p>清金钩钓，指金钩钓听牌时，胡牌时的牌型都为同一花色。</p>\n",
      "<h2>六番（x32）：</h2>\n",
      "<p>地胡，在打牌过程中，非庄家在第一次摸完牌后就可以下叫，第一轮摸牌后就胡牌，叫地胡。</p>\n",
      "<p>清龙七对，玩家手牌是清一色的龙七对，叫清龙七对，如。算番时减1根。</p>\n",
      "<ul class=\"mj_list clearfix\">\n",
      "<li><img src=\"images/w_1.png\"/></li>\n",
      "<li><img src=\"images/w_1.png\"/></li>\n",
      "<li><img src=\"images/w_2.png\"/></li>\n",
      "<li><img src=\"images/w_2.png\"/></li>\n",
      "<li><img src=\"images/w_4.png\"/></li>\n",
      "<li><img src=\"images/w_4.png\"/></li>\n",
      "<li><img src=\"images/w_4.png\"/></li>\n",
      "<li><img src=\"images/w_4.png\"/></li>\n",
      "<li><img src=\"images/w_5.png\"/></li>\n",
      "<li><img src=\"images/w_5.png\"/></li>\n",
      "<li><img src=\"images/w_7.png\"/></li>\n",
      "<li><img src=\"images/w_7.png\"/></li>\n",
      "<li><img src=\"images/w_9.png\"/></li>\n",
      "<li><img src=\"images/w_9.png\"/></li>\n",
      "</ul>\n",
      "<h2>七番（x64）：</h2>\n",
      "<p>十八罗汉，在金钩钓里，若有四个杠，此时所有的牌有18张，所以称为十八罗汉。</p>\n",
      "<h2>另加番：</h2>\n",
      "            杠上花，1番，杠了之后补牌而胡。<br/>\n",
      "            杠上炮，1番，玩家在杠牌时，先杠一张牌，再打掉一张牌，而打出的这张牌正好是其他玩家胡牌所需要的叫牌时，这种情况叫            杠上炮。即玩家杠了后补牌，打出，然后给其他玩家胡了。<br/>\n",
      "            抢杠胡，1番，玩家面下杠时，他家可以抢杠而胡，且刮风下雨无效。<br/>\n",
      "</div>]\n",
      "[]\n",
      "[<title>血流成河</title>]\n"
     ]
    }
   ],
   "source": [
    "print(soup.select('.cont')) #css class\n",
    "print(soup.select('#link1')) #css id\n",
    "print(soup.select('head > title')) #css child element  pay attention to 'space'"
   ]
  },
  {
   "cell_type": "markdown",
   "metadata": {},
   "source": [
    "数据库操作(sqlite3) 适合小数据"
   ]
  },
  {
   "cell_type": "code",
   "execution_count": 51,
   "metadata": {
    "collapsed": true
   },
   "outputs": [],
   "source": [
    "import sqlite3"
   ]
  },
  {
   "cell_type": "code",
   "execution_count": 54,
   "metadata": {},
   "outputs": [
    {
     "name": "stdout",
     "output_type": "stream",
     "text": [
      "100 Lzq\n",
      "250 Lbh\n"
     ]
    }
   ],
   "source": [
    "conn = sqlite3.connect('test.db')#create(if exists ,connect) a database\n",
    "create_sql ='create table company(id int primary key not null, emp_name text not null)'\n",
    "conn.execute(create_sql)\n",
    "insert_sql ='insert into company values(?,?)'\n",
    "conn.execute(insert_sql,(100,'Lzq'))\n",
    "conn.execute(insert_sql,(250,'Lbh'))\n",
    "cursors = conn.execute('select id, emp_name from company')\n",
    "for row in cursors:\n",
    "    print(row[0], row[1])\n",
    "conn.close()"
   ]
  },
  {
   "cell_type": "code",
   "execution_count": null,
   "metadata": {
    "collapsed": true
   },
   "outputs": [],
   "source": []
  }
 ],
 "metadata": {
  "kernelspec": {
   "display_name": "Python 3",
   "language": "python",
   "name": "python3"
  },
  "language_info": {
   "codemirror_mode": {
    "name": "ipython",
    "version": 3
   },
   "file_extension": ".py",
   "mimetype": "text/x-python",
   "name": "python",
   "nbconvert_exporter": "python",
   "pygments_lexer": "ipython3",
   "version": "3.6.1"
  }
 },
 "nbformat": 4,
 "nbformat_minor": 2
}
